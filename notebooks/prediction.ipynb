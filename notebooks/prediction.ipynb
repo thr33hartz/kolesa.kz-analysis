{
 "cells": [
  {
   "cell_type": "code",
   "execution_count": 1,
   "metadata": {},
   "outputs": [],
   "source": [
    "import pandas as pd\n",
    "from sklearn.model_selection import train_test_split\n",
    "from sklearn.preprocessing import OneHotEncoder\n",
    "from sklearn.compose import ColumnTransformer\n",
    "from sklearn.pipeline import Pipeline\n",
    "from sklearn.ensemble import RandomForestRegressor\n",
    "from sklearn.metrics import mean_absolute_error"
   ]
  },
  {
   "cell_type": "code",
   "execution_count": 2,
   "metadata": {},
   "outputs": [],
   "source": [
    "df = pd.read_csv('../data/kolesa_almaty_cleaned.csv')"
   ]
  },
  {
   "cell_type": "code",
   "execution_count": 3,
   "metadata": {},
   "outputs": [
    {
     "data": {
      "application/vnd.microsoft.datawrangler.viewer.v0+json": {
       "columns": [
        {
         "name": "index",
         "rawType": "int64",
         "type": "integer"
        },
        {
         "name": "brand",
         "rawType": "object",
         "type": "string"
        },
        {
         "name": "model",
         "rawType": "object",
         "type": "string"
        },
        {
         "name": "year",
         "rawType": "int64",
         "type": "integer"
        },
        {
         "name": "city",
         "rawType": "object",
         "type": "string"
        },
        {
         "name": "price",
         "rawType": "int64",
         "type": "integer"
        },
        {
         "name": "mileage",
         "rawType": "int64",
         "type": "integer"
        },
        {
         "name": "engine_volume_liters",
         "rawType": "float64",
         "type": "float"
        },
        {
         "name": "body_style",
         "rawType": "object",
         "type": "string"
        },
        {
         "name": "color",
         "rawType": "object",
         "type": "string"
        },
        {
         "name": "transmission",
         "rawType": "object",
         "type": "string"
        },
        {
         "name": "drive_type",
         "rawType": "object",
         "type": "string"
        },
        {
         "name": "url",
         "rawType": "object",
         "type": "string"
        },
        {
         "name": "parsed_at",
         "rawType": "object",
         "type": "string"
        }
       ],
       "conversionMethod": "pd.DataFrame",
       "ref": "4540967d-2ef9-42c1-8328-42d7eefa7b68",
       "rows": [
        [
         "0",
         "ГАЗ",
         "ГАЗель",
         "2011",
         "Алматы",
         "5400000",
         "193650",
         "2.9",
         "Фургон",
         "белый металлик",
         "Механика",
         "Задний привод",
         "https://kolesa.kz/a/show/185584438",
         "2025-04-07 09:11:19"
        ],
        [
         "1",
         "Infiniti",
         "QX56",
         "2011",
         "Алматы",
         "14500000",
         "218688",
         "5.6",
         "Внедорожник",
         "черный",
         "Автомат",
         "Полный привод",
         "https://kolesa.kz/a/show/185584296",
         "2025-04-07 09:11:27"
        ],
        [
         "2",
         "Chery",
         "Tiggo 2",
         "2023",
         "Алматы",
         "5600000",
         "17134",
         "1.5",
         "Кроссовер",
         "серый",
         "Вариатор",
         "Передний привод",
         "https://kolesa.kz/a/show/184249228",
         "2025-04-07 09:11:38"
        ],
        [
         "3",
         "Toyota",
         "Windom",
         "2001",
         "Алматы",
         "5200000",
         "249874",
         "3.0",
         "Седан",
         "белый",
         "Автомат",
         "Передний привод",
         "https://kolesa.kz/a/show/184510195",
         "2025-04-07 09:11:47"
        ],
        [
         "4",
         "BMW",
         "735",
         "2000",
         "Алматы",
         "3900000",
         "239760",
         "3.5",
         "Седан",
         "черный металлик",
         "Автомат",
         "Задний привод",
         "https://kolesa.kz/a/show/185584229",
         "2025-04-07 09:11:53"
        ]
       ],
       "shape": {
        "columns": 13,
        "rows": 5
       }
      },
      "text/html": [
       "<div>\n",
       "<style scoped>\n",
       "    .dataframe tbody tr th:only-of-type {\n",
       "        vertical-align: middle;\n",
       "    }\n",
       "\n",
       "    .dataframe tbody tr th {\n",
       "        vertical-align: top;\n",
       "    }\n",
       "\n",
       "    .dataframe thead th {\n",
       "        text-align: right;\n",
       "    }\n",
       "</style>\n",
       "<table border=\"1\" class=\"dataframe\">\n",
       "  <thead>\n",
       "    <tr style=\"text-align: right;\">\n",
       "      <th></th>\n",
       "      <th>brand</th>\n",
       "      <th>model</th>\n",
       "      <th>year</th>\n",
       "      <th>city</th>\n",
       "      <th>price</th>\n",
       "      <th>mileage</th>\n",
       "      <th>engine_volume_liters</th>\n",
       "      <th>body_style</th>\n",
       "      <th>color</th>\n",
       "      <th>transmission</th>\n",
       "      <th>drive_type</th>\n",
       "      <th>url</th>\n",
       "      <th>parsed_at</th>\n",
       "    </tr>\n",
       "  </thead>\n",
       "  <tbody>\n",
       "    <tr>\n",
       "      <th>0</th>\n",
       "      <td>ГАЗ</td>\n",
       "      <td>ГАЗель</td>\n",
       "      <td>2011</td>\n",
       "      <td>Алматы</td>\n",
       "      <td>5400000</td>\n",
       "      <td>193650</td>\n",
       "      <td>2.9</td>\n",
       "      <td>Фургон</td>\n",
       "      <td>белый металлик</td>\n",
       "      <td>Механика</td>\n",
       "      <td>Задний привод</td>\n",
       "      <td>https://kolesa.kz/a/show/185584438</td>\n",
       "      <td>2025-04-07 09:11:19</td>\n",
       "    </tr>\n",
       "    <tr>\n",
       "      <th>1</th>\n",
       "      <td>Infiniti</td>\n",
       "      <td>QX56</td>\n",
       "      <td>2011</td>\n",
       "      <td>Алматы</td>\n",
       "      <td>14500000</td>\n",
       "      <td>218688</td>\n",
       "      <td>5.6</td>\n",
       "      <td>Внедорожник</td>\n",
       "      <td>черный</td>\n",
       "      <td>Автомат</td>\n",
       "      <td>Полный привод</td>\n",
       "      <td>https://kolesa.kz/a/show/185584296</td>\n",
       "      <td>2025-04-07 09:11:27</td>\n",
       "    </tr>\n",
       "    <tr>\n",
       "      <th>2</th>\n",
       "      <td>Chery</td>\n",
       "      <td>Tiggo 2</td>\n",
       "      <td>2023</td>\n",
       "      <td>Алматы</td>\n",
       "      <td>5600000</td>\n",
       "      <td>17134</td>\n",
       "      <td>1.5</td>\n",
       "      <td>Кроссовер</td>\n",
       "      <td>серый</td>\n",
       "      <td>Вариатор</td>\n",
       "      <td>Передний привод</td>\n",
       "      <td>https://kolesa.kz/a/show/184249228</td>\n",
       "      <td>2025-04-07 09:11:38</td>\n",
       "    </tr>\n",
       "    <tr>\n",
       "      <th>3</th>\n",
       "      <td>Toyota</td>\n",
       "      <td>Windom</td>\n",
       "      <td>2001</td>\n",
       "      <td>Алматы</td>\n",
       "      <td>5200000</td>\n",
       "      <td>249874</td>\n",
       "      <td>3.0</td>\n",
       "      <td>Седан</td>\n",
       "      <td>белый</td>\n",
       "      <td>Автомат</td>\n",
       "      <td>Передний привод</td>\n",
       "      <td>https://kolesa.kz/a/show/184510195</td>\n",
       "      <td>2025-04-07 09:11:47</td>\n",
       "    </tr>\n",
       "    <tr>\n",
       "      <th>4</th>\n",
       "      <td>BMW</td>\n",
       "      <td>735</td>\n",
       "      <td>2000</td>\n",
       "      <td>Алматы</td>\n",
       "      <td>3900000</td>\n",
       "      <td>239760</td>\n",
       "      <td>3.5</td>\n",
       "      <td>Седан</td>\n",
       "      <td>черный металлик</td>\n",
       "      <td>Автомат</td>\n",
       "      <td>Задний привод</td>\n",
       "      <td>https://kolesa.kz/a/show/185584229</td>\n",
       "      <td>2025-04-07 09:11:53</td>\n",
       "    </tr>\n",
       "  </tbody>\n",
       "</table>\n",
       "</div>"
      ],
      "text/plain": [
       "      brand    model  year    city     price  mileage  engine_volume_liters  \\\n",
       "0       ГАЗ   ГАЗель  2011  Алматы   5400000   193650                   2.9   \n",
       "1  Infiniti     QX56  2011  Алматы  14500000   218688                   5.6   \n",
       "2     Chery  Tiggo 2  2023  Алматы   5600000    17134                   1.5   \n",
       "3    Toyota   Windom  2001  Алматы   5200000   249874                   3.0   \n",
       "4       BMW      735  2000  Алматы   3900000   239760                   3.5   \n",
       "\n",
       "    body_style            color transmission       drive_type  \\\n",
       "0       Фургон   белый металлик     Механика    Задний привод   \n",
       "1  Внедорожник           черный      Автомат    Полный привод   \n",
       "2    Кроссовер            серый     Вариатор  Передний привод   \n",
       "3        Седан            белый      Автомат  Передний привод   \n",
       "4        Седан  черный металлик      Автомат    Задний привод   \n",
       "\n",
       "                                  url            parsed_at  \n",
       "0  https://kolesa.kz/a/show/185584438  2025-04-07 09:11:19  \n",
       "1  https://kolesa.kz/a/show/185584296  2025-04-07 09:11:27  \n",
       "2  https://kolesa.kz/a/show/184249228  2025-04-07 09:11:38  \n",
       "3  https://kolesa.kz/a/show/184510195  2025-04-07 09:11:47  \n",
       "4  https://kolesa.kz/a/show/185584229  2025-04-07 09:11:53  "
      ]
     },
     "execution_count": 3,
     "metadata": {},
     "output_type": "execute_result"
    }
   ],
   "source": [
    "df.head()"
   ]
  },
  {
   "cell_type": "code",
   "execution_count": 4,
   "metadata": {},
   "outputs": [],
   "source": [
    "df_model = df.drop(columns=['url', 'parsed_at', 'city'])"
   ]
  },
  {
   "cell_type": "code",
   "execution_count": 5,
   "metadata": {},
   "outputs": [],
   "source": [
    "y = df_model['price']\n",
    "X = df_model.drop(columns=['price'])"
   ]
  },
  {
   "cell_type": "code",
   "execution_count": 6,
   "metadata": {},
   "outputs": [],
   "source": [
    "numeric_features = ['year', 'mileage', 'engine_volume_liters']\n",
    "categorical_features = ['brand', 'model', 'body_style', 'color', 'transmission', 'drive_type']"
   ]
  },
  {
   "cell_type": "code",
   "execution_count": 7,
   "metadata": {},
   "outputs": [],
   "source": [
    "preprocessor = ColumnTransformer(\n",
    "    transformers=[\n",
    "        ('num', 'passthrough', numeric_features),\n",
    "        ('cat', OneHotEncoder(handle_unknown='ignore'), categorical_features)\n",
    "    ]\n",
    ")\n",
    "\n",
    "model = Pipeline(steps=[\n",
    "    ('preprocessor', preprocessor),\n",
    "    ('regressor', RandomForestRegressor(n_estimators=100, random_state=42))\n",
    "])"
   ]
  },
  {
   "cell_type": "code",
   "execution_count": 8,
   "metadata": {},
   "outputs": [],
   "source": [
    "X_train, X_test, y_train, y_test = train_test_split(X, y, test_size=0.2, random_state=42)\n",
    "\n",
    "model.fit(X_train, y_train)\n",
    "\n",
    "y_pred = model.predict(X_test)\n",
    "\n",
    "mae = mean_absolute_error(y_test, y_pred)\n",
    "r2 = model.score(X_test, y_test)"
   ]
  },
  {
   "cell_type": "code",
   "execution_count": 9,
   "metadata": {},
   "outputs": [
    {
     "data": {
      "text/plain": [
       "(2158412.206520505, 0.9078846201358622)"
      ]
     },
     "execution_count": 9,
     "metadata": {},
     "output_type": "execute_result"
    }
   ],
   "source": [
    "mae, r2"
   ]
  }
 ],
 "metadata": {
  "kernelspec": {
   "display_name": "base",
   "language": "python",
   "name": "python3"
  },
  "language_info": {
   "codemirror_mode": {
    "name": "ipython",
    "version": 3
   },
   "file_extension": ".py",
   "mimetype": "text/x-python",
   "name": "python",
   "nbconvert_exporter": "python",
   "pygments_lexer": "ipython3",
   "version": "3.11.5"
  }
 },
 "nbformat": 4,
 "nbformat_minor": 2
}
